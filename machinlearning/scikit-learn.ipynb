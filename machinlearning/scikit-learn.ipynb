{
 "cells": [
  {
   "cell_type": "code",
   "execution_count": 69,
   "metadata": {},
   "outputs": [
    {
     "name": "stdout",
     "output_type": "stream",
     "text": [
      "클래스 레이블: [0 1 2]\n",
      "[False False False False False False False False False False False False\n",
      " False False False False False False False False False False False False\n",
      " False False  True False False False False False False False False False\n",
      " False False False False False False False False False]\n",
      "잘못된 분류 샘플 1\n",
      "정확도:0.977778\n"
     ]
    }
   ],
   "source": [
    "from sklearn import datasets\n",
    "import numpy as np\n",
    "\n",
    "iris = datasets.load_iris()\n",
    "X = iris.data[:,[2,3]]\n",
    "y = iris.target\n",
    "print(\"클래스 레이블:\", np.unique(y)) #정수로 labeling 함\n",
    "\n",
    "from sklearn.model_selection import train_test_split# training set과 test set으로 나눔.\n",
    "X_train, X_test, y_train, y_test = train_test_split(\n",
    "X, y, test_size=0.3, random_state=1, stratify=y) # test size를 30% training size를 70%, 분할하기 전,seed로 섞어. \n",
    "#그리고 계층화 : train_test_split 함수가 훈련세트와 테스트 세트의 label의 비율을 동일하게\n",
    "\n",
    "np.bincount(y) # 갯수세는 것 unique는 중복제거한 것,return 이친구는 없음 없다고 말함.\n",
    "from sklearn.preprocessing import StandardScaler\n",
    "sc = StandardScaler()\n",
    "sc.fit(X_train)\n",
    "X_train_std = sc.transform(X_train)\n",
    "X_test_std = sc.transform(X_test)\n",
    "\n",
    "#OVR one vs rest  // multiclass calssification\n",
    "from sklearn.linear_model import Perceptron\n",
    "ppn = Perceptron(max_iter=40,eta0=0.1,tol=1e-3,random_state=1)\n",
    "ppn.fit(X_train_std,y_train)\n",
    "\n",
    "y_pred = ppn.predict(X_test_std)\n",
    "print(\"잘못된 분류 샘플\", (y_test != y_pred).sum())\n",
    "\n",
    "#from sklearn.metrix\n",
    "\n",
    "from sklearn.metrics import accuracy_score\n",
    "print('정확도:%2f'%accuracy_score(y_test,y_pred))"
   ]
  },
  {
   "cell_type": "code",
   "execution_count": 80,
   "metadata": {},
   "outputs": [
    {
     "ename": "AttributeError",
     "evalue": "'ListedColormap' object has no attribute 'show'",
     "output_type": "error",
     "traceback": [
      "\u001b[1;31m---------------------------------------------------------------------------\u001b[0m",
      "\u001b[1;31mAttributeError\u001b[0m                            Traceback (most recent call last)",
      "\u001b[1;32m<ipython-input-80-425f3275d64f>\u001b[0m in \u001b[0;36m<module>\u001b[1;34m\u001b[0m\n\u001b[0;32m     11\u001b[0m \u001b[0mcolors\u001b[0m \u001b[1;33m=\u001b[0m \u001b[1;34m\"red\"\u001b[0m\u001b[1;33m,\u001b[0m\u001b[1;34m\"blue\"\u001b[0m\u001b[1;33m,\u001b[0m\u001b[1;34m\"lightgreen\"\u001b[0m\u001b[1;33m,\u001b[0m\u001b[1;34m\"gray\"\u001b[0m\u001b[1;33m,\u001b[0m\u001b[1;34m\"cyan\"\u001b[0m\u001b[1;33m\u001b[0m\u001b[1;33m\u001b[0m\u001b[0m\n\u001b[0;32m     12\u001b[0m \u001b[0mcmap\u001b[0m \u001b[1;33m=\u001b[0m \u001b[0mListedColormap\u001b[0m\u001b[1;33m(\u001b[0m\u001b[0mcolors\u001b[0m\u001b[1;33m[\u001b[0m\u001b[1;33m:\u001b[0m\u001b[0mlen\u001b[0m\u001b[1;33m(\u001b[0m\u001b[0mnp\u001b[0m\u001b[1;33m.\u001b[0m\u001b[0munique\u001b[0m\u001b[1;33m(\u001b[0m\u001b[0my\u001b[0m\u001b[1;33m)\u001b[0m\u001b[1;33m)\u001b[0m\u001b[1;33m]\u001b[0m\u001b[1;33m)\u001b[0m\u001b[1;33m\u001b[0m\u001b[1;33m\u001b[0m\u001b[0m\n\u001b[1;32m---> 13\u001b[1;33m \u001b[0mcmap\u001b[0m\u001b[1;33m.\u001b[0m\u001b[0mshow\u001b[0m\u001b[1;33m(\u001b[0m\u001b[1;33m)\u001b[0m\u001b[1;33m\u001b[0m\u001b[1;33m\u001b[0m\u001b[0m\n\u001b[0m",
      "\u001b[1;31mAttributeError\u001b[0m: 'ListedColormap' object has no attribute 'show'"
     ]
    }
   ],
   "source": [
    "from matplotlib.colors import ListedColormap\n",
    "import matplotlib.pyplot as plt\n",
    "\n",
    "def plot_decision_region(X,y,classifier,test_idx=None,resolution=0.02):\n",
    "    \n",
    "    #마커와 컬러맵을 만듬\n",
    "    markers = \"s\",\"x\",\"o\",\"^\",\"v\"\n",
    "    colors = \"red\",\"blue\",\"lightgreen\",\"gray\",\"cyan\"\n",
    "    cmap = ListedColormap(colors[:len(np.uninque(y))]) #칼러맵 객체를 가져오자.\n",
    "    \n",
    "    # 결정 경계를 그림\n",
    "    x1_min, x1_max = X[:,0].min() -1, X[:,0].max() + 1\n",
    "    x2_min, x2_max = X[:,1].min() -1, X[:,1].max() + 1\n",
    "    xx1, xx2 = np.meshgrid\n",
    "    \n",
    "    \n",
    "#책이 너무 재밌고 괜찮은 것 같은데, "
   ]
  }
 ],
 "metadata": {
  "kernelspec": {
   "display_name": "Python 3",
   "language": "python",
   "name": "python3"
  },
  "language_info": {
   "codemirror_mode": {
    "name": "ipython",
    "version": 3
   },
   "file_extension": ".py",
   "mimetype": "text/x-python",
   "name": "python",
   "nbconvert_exporter": "python",
   "pygments_lexer": "ipython3",
   "version": "3.7.4"
  }
 },
 "nbformat": 4,
 "nbformat_minor": 2
}
