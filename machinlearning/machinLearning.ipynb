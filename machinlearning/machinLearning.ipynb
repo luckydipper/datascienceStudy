{
 "cells": [
  {
   "cell_type": "markdown",
   "metadata": {},
   "source": [
    "numpy study for deep learning"
   ]
  },
  {
   "cell_type": "code",
   "execution_count": 119,
   "metadata": {},
   "outputs": [
    {
     "name": "stdout",
     "output_type": "stream",
     "text": [
      "[ 0.00050562  0.00499951 -0.00995909  0.00693599 -0.00418302]\n"
     ]
    }
   ],
   "source": [
    "import numpy as np\n",
    "np.random.seed(5)\n",
    "regen = np.random.RandomState(4)\n",
    "w_ = regen.normal(0,0.01,5)\n",
    "print(w_)"
   ]
  },
  {
   "cell_type": "code",
   "execution_count": 175,
   "metadata": {
    "scrolled": false
   },
   "outputs": [
    {
     "data": {
      "text/plain": [
       "'\\nX = X.tolist()\\nq = zip(X,y) #zip으로 하면 tuple로 붙힐 수 있음.np.hstack((X,y)), \\nq=np.array(q)\\nq\\n'"
      ]
     },
     "execution_count": 175,
     "metadata": {},
     "output_type": "execute_result"
    }
   ],
   "source": [
    "import pandas as pd\n",
    "df = pd.read_csv(\"C:/Users/user/Downloads/iris.data\",header=None)# link 가능\n",
    "\n",
    "#setosa & versicolor를 선택함\n",
    "y = df.iloc[ 0:100, 4 ]\n",
    "y = np.where( y == 'Iris-setosa', -1, 1 )\n",
    "\n",
    "#꽃받침 길이와 꽃잎 길이를 추출함.\n",
    "X = df.iloc[ 0:100, [0,2] ].values\n",
    "\n",
    "\n",
    "\n",
    "\"\"\"\n",
    "X = X.tolist()\n",
    "q = zip(X,y) #zip으로 하면 tuple로 붙힐 수 있음.np.hstack((X,y)), \n",
    "q=np.array(q)\n",
    "q\n",
    "\"\"\""
   ]
  },
  {
   "cell_type": "code",
   "execution_count": 176,
   "metadata": {},
   "outputs": [
    {
     "data": {
      "image/png": "[encoded data removed]",
      "text/plain": [
       "<Figure size 432x288 with 1 Axes>"
      ]
     },
     "metadata": {
      "needs_background": "light"
     },
     "output_type": "display_data"
    },
    {
     "data": {
      "text/plain": [
       "'\\nu = np.arange(9)\\nu = u.reshape(3,3)\\nu = pd.DataFrame(u, columns=[\"a\",\"b\",\"c\"], index=[7,2,5])\\nu = u.values\\nu = u.reshape(9)\\nu.shape # == np.shape(u)\\n'"
      ]
     },
     "execution_count": 176,
     "metadata": {},
     "output_type": "execute_result"
    }
   ],
   "source": [
    "import matplotlib.pyplot as plt\n",
    "\n",
    "# 산점도를 그림\n",
    "# 앞의 50개는 setosa임.\n",
    "plt.scatter(X[:50,0], X[:50,1],\n",
    "            color='red',marker='o',label='setosa')\n",
    "plt.scatter(X[50:100,0], X[50:100, 1],#좌표\n",
    "            color=\"blue\", marker='x', label=\"versicolor\")\n",
    "plt.xlabel('sepal lenth [cm]')\n",
    "plt.ylabel('petal lenth [cm]')\n",
    "plt.legend(loc='upper left')\n",
    "plt.show()\n",
    "\n",
    "\n",
    "\"\"\"\n",
    "u = np.arange(9)\n",
    "u = u.reshape(3,3)\n",
    "u = pd.DataFrame(u, columns=[\"a\",\"b\",\"c\"], index=[7,2,5])\n",
    "u = u.values\n",
    "u = u.reshape(9)\n",
    "u.shape # == np.shape(u)\n",
    "\"\"\"\n"
   ]
  },
  {
   "cell_type": "code",
   "execution_count": 235,
   "metadata": {},
   "outputs": [],
   "source": [
    "import numpy as np\n",
    "class Perceptron():\n",
    "    \"\"\"퍼셉트론 분류기\n",
    "    \n",
    "    parameter\n",
    "    --------------\n",
    "    eta : float\n",
    "        학습률(0.0~1.0사이 존재)\n",
    "    n_iter : int\n",
    "        훈련 데이터셋 반복 횟수\n",
    "    random_state : int\n",
    "        가중치 무작위 초기화를 위한 난수 생성기 seed\n",
    "        \n",
    "    속성<class가 가진 data attribute>,method를 호출해서 만든 속성은 _를 추가\n",
    "    -------------\n",
    "    w_ : 1d-array\n",
    "        학습된 가중치\n",
    "    errors_ : list\n",
    "        에포크<학습 횟수>마다 누적된 분류 오류 -> 틀린 횟수\n",
    "    \"\"\"\n",
    "    def __init__(self, eta=0.01, n_iter=50, random_state=1):\n",
    "        self.eta = eta\n",
    "        self.n_iter = n_iter\n",
    "        self.random_state = random_state\n",
    "    def fit(self, X, y):\n",
    "        \"\"\"훈련 데이터 학습\n",
    "        \n",
    "        parameter\n",
    "        ----------\n",
    "        X : {array-like}, shape == (n_samples,n_features) -> index\n",
    "            n_samples개의 샘플과 n_features개의 특성으로 이루어진 훈련 데이터\n",
    "        y : array-like , shape == (n_samples)\n",
    "            타깃 값\n",
    "        \n",
    "        변환값\n",
    "        -------\n",
    "        self : object\n",
    "        \n",
    "        \"\"\"\n",
    "        rgen = np.random.RandomState(self.random_state) #난수 생성기 seed 설정 np.random 객체 느낌.\n",
    "        self.w_ = rgen.normal(loc=0.0, scale=0.01,\n",
    "                              size=1 + X.shape[1])#난수 생성기에 정규분포 loc == mean, scale == 표준편차, size == vector크기.\n",
    "                                                  #이렇게 w 가중치를 format해놓는 이유는 가중치가 0이 아니어야 됨\n",
    "        self.errors_ = []\n",
    "        \n",
    "        for _ in range(self.n_iter):\n",
    "            errors = 0\n",
    "            for xi, target in zip(X,y):\n",
    "                update = self.eta * (target - self.predict(xi))\n",
    "                self.w_[1:] += update * xi\n",
    "                self.w_[0] += update\n",
    "                errors += int(update != 0.0)\n",
    "            self.errors_.append(errors)\n",
    "        return self\n",
    "    \n",
    "    def net_input(self,X):\n",
    "        \"\"\"최종입력(netinput) 계산\"\"\"\n",
    "        return np.dot(X,self.w_[1:]) + w_[0]\n",
    "        \n",
    "    def predict(self,X):\n",
    "        \"\"\"단위 계산 함수<활성화 함수의 종류>를 사용하여, 클래스 레이블을 반환\"\"\"\n",
    "        return np.where(self.net_input(X) >= 0.0, 1, -1)\n"
   ]
  },
  {
   "cell_type": "code",
   "execution_count": 249,
   "metadata": {
    "scrolled": true
   },
   "outputs": [
    {
     "data": {
      "image/png": "[encoded data removed]",
      "text/plain": [
       "<Figure size 432x288 with 1 Axes>"
      ]
     },
     "metadata": {
      "needs_background": "light"
     },
     "output_type": "display_data"
    }
   ],
   "source": [
    "ppn = Perceptron(eta=0.1, n_iter=10)\n",
    "ppn.fit(X, y)\n",
    "plt.plot(range(1, len(ppn.errors_) +1),\n",
    "         ppn.errors_, marker=\"o\")\n",
    "plt.xlabel('Epochs')\n",
    "plt.ylabel('Number of errors')\n",
    "plt.show()"
   ]
  },
  {
   "cell_type": "code",
   "execution_count": 250,
   "metadata": {},
   "outputs": [],
   "source": [
    "from matplotlib.colors import ListedColormap\n",
    "\n",
    "def plot_decision_regions(X, y, classifier, resolution=0.02):\n",
    "    \n",
    "    #마커와 컬러맵을 설정\n",
    "    markers = ('s','x','o','^','v')\n",
    "    colors = (\"red\", \"blue\", \"lightgreen\", \"gray\", \"cyan\")\n",
    "    cmap = ListedColormap(colors[:len(np.unique(y))])\n",
    "    \n",
    "    #결정 경계를 그림\n",
    "    x1_min, x1_max = X[:,0].min() - 1, X[:,0].max() + 1\n",
    "    x2_min, x2_max = X[:,0].min() - 1, X[:,0].max() + 1\n"
   ]
  },
  {
   "cell_type": "code",
   "execution_count": null,
   "metadata": {},
   "outputs": [],
   "source": [
    "\n",
    "\n",
    "\n"
   ]
  }
 ],
 "metadata": {
  "kernelspec": {
   "display_name": "Python 3",
   "language": "python",
   "name": "python3"
  },
  "language_info": {
   "codemirror_mode": {
    "name": "ipython",
    "version": 3
   },
   "file_extension": ".py",
   "mimetype": "text/x-python",
   "name": "python",
   "nbconvert_exporter": "python",
   "pygments_lexer": "ipython3",
   "version": "3.7.4"
  }
 },
 "nbformat": 4,
 "nbformat_minor": 2
}